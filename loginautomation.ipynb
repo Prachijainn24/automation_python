{
 "cells": [
  {
   "cell_type": "code",
   "execution_count": 4,
   "id": "b5ef327c-4745-44a7-9d0c-671e8e118b01",
   "metadata": {},
   "outputs": [
    {
     "name": "stdout",
     "output_type": "stream",
     "text": [
      "Login attempted. Please check the browser.\n"
     ]
    }
   ],
   "source": [
    "from selenium import webdriver\n",
    "from selenium.webdriver.common.by import By\n",
    "from selenium.webdriver.common.keys import Keys\n",
    "\n",
    "# Replace with your own Instagram credentials\n",
    "username = 'prachiijainn_'\n",
    "password = '123456789'\n",
    "\n",
    "driver = webdriver.Chrome()\n",
    "\n",
    "# Open Instagram login page\n",
    "driver.get(\"https://www.instagram.com/accounts/login/\")\n",
    "\n",
    "\n",
    "username_input = driver.find_element(By.NAME, \"username\")\n",
    "username_input.send_keys(username)\n",
    "\n",
    "# Enter password\n",
    "password_input = driver.find_element(By.NAME, \"password\")\n",
    "password_input.send_keys(password)\n",
    "\n",
    "# Login\n",
    "password_input.send_keys(Keys.ENTER)\n",
    "\n",
    "print(\"Login attempted. Please check the browser.\")\n",
    "\n",
    "#  Close browser\n"
   ]
  },
  {
   "cell_type": "code",
   "execution_count": null,
   "id": "34195dc8-d8ed-4f72-b0ec-ef8cad0758cd",
   "metadata": {},
   "outputs": [],
   "source": []
  },
  {
   "cell_type": "code",
   "execution_count": null,
   "id": "b7ff00a3-9646-4d59-8562-977e2135789f",
   "metadata": {},
   "outputs": [],
   "source": []
  }
 ],
 "metadata": {
  "kernelspec": {
   "display_name": "Python 3 (ipykernel)",
   "language": "python",
   "name": "python3"
  },
  "language_info": {
   "codemirror_mode": {
    "name": "ipython",
    "version": 3
   },
   "file_extension": ".py",
   "mimetype": "text/x-python",
   "name": "python",
   "nbconvert_exporter": "python",
   "pygments_lexer": "ipython3",
   "version": "3.12.7"
  }
 },
 "nbformat": 4,
 "nbformat_minor": 5
}
